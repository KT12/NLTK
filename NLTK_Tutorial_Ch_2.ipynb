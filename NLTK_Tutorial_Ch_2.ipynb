{
 "cells": [
  {
   "cell_type": "code",
   "execution_count": 1,
   "metadata": {
    "collapsed": true
   },
   "outputs": [],
   "source": [
    "import nltk"
   ]
  },
  {
   "cell_type": "code",
   "execution_count": 2,
   "metadata": {
    "collapsed": false
   },
   "outputs": [
    {
     "data": {
      "text/plain": [
       "[u'austen-emma.txt',\n",
       " u'austen-persuasion.txt',\n",
       " u'austen-sense.txt',\n",
       " u'bible-kjv.txt',\n",
       " u'blake-poems.txt',\n",
       " u'bryant-stories.txt',\n",
       " u'burgess-busterbrown.txt',\n",
       " u'carroll-alice.txt',\n",
       " u'chesterton-ball.txt',\n",
       " u'chesterton-brown.txt',\n",
       " u'chesterton-thursday.txt',\n",
       " u'edgeworth-parents.txt',\n",
       " u'melville-moby_dick.txt',\n",
       " u'milton-paradise.txt',\n",
       " u'shakespeare-caesar.txt',\n",
       " u'shakespeare-hamlet.txt',\n",
       " u'shakespeare-macbeth.txt',\n",
       " u'whitman-leaves.txt']"
      ]
     },
     "execution_count": 2,
     "metadata": {},
     "output_type": "execute_result"
    }
   ],
   "source": [
    "nltk.corpus.gutenberg.fileids()"
   ]
  },
  {
   "cell_type": "code",
   "execution_count": 3,
   "metadata": {
    "collapsed": true
   },
   "outputs": [],
   "source": [
    "emma = nltk.corpus.gutenberg.words('austen-emma.txt')"
   ]
  },
  {
   "cell_type": "code",
   "execution_count": 4,
   "metadata": {
    "collapsed": false
   },
   "outputs": [
    {
     "data": {
      "text/plain": [
       "192427"
      ]
     },
     "execution_count": 4,
     "metadata": {},
     "output_type": "execute_result"
    }
   ],
   "source": [
    "len(emma)"
   ]
  },
  {
   "cell_type": "code",
   "execution_count": 5,
   "metadata": {
    "collapsed": true
   },
   "outputs": [],
   "source": [
    "emma = nltk.Text(nltk.corpus.gutenberg.words('austen-emma.txt'))"
   ]
  },
  {
   "cell_type": "code",
   "execution_count": 6,
   "metadata": {
    "collapsed": false
   },
   "outputs": [
    {
     "name": "stdout",
     "output_type": "stream",
     "text": [
      "Displaying 25 of 37 matches:\n",
      "er father , was sometimes taken by surprize at his being still able to pity ` \n",
      "hem do the other any good .\" \" You surprize me ! Emma must do Harriet good : a\n",
      "Knightley actually looked red with surprize and displeasure , as he stood up ,\n",
      "r . Elton , and found to his great surprize , that Mr . Elton was actually on \n",
      "d aid .\" Emma saw Mrs . Weston ' s surprize , and felt that it must be great ,\n",
      "father was quite taken up with the surprize of so sudden a journey , and his f\n",
      "y , in all the favouring warmth of surprize and conjecture . She was , moreove\n",
      "he appeared , to have her share of surprize , introduction , and pleasure . Th\n",
      "ir plans ; and it was an agreeable surprize to her , therefore , to perceive t\n",
      "talking aunt had taken me quite by surprize , it must have been the death of m\n",
      "f all the dialogue which ensued of surprize , and inquiry , and congratulation\n",
      " the present . They might chuse to surprize her .\" Mrs . Cole had many to agre\n",
      "the mode of it , the mystery , the surprize , is more like a young woman ' s s\n",
      " to her song took her agreeably by surprize -- a second , slightly but correct\n",
      "\" \" Oh ! no -- there is nothing to surprize one at all .-- A pretty fortune ; \n",
      "t to be considered . Emma ' s only surprize was that Jane Fairfax should accep\n",
      "of your admiration may take you by surprize some day or other .\" Mr . Knightle\n",
      "ation for her will ever take me by surprize .-- I never had a thought of her i\n",
      " expected by the best judges , for surprize -- but there was great joy . Mr . \n",
      " sound of at first , without great surprize . \" So unreasonably early !\" she w\n",
      "d Frank Churchill , with a look of surprize and displeasure .-- \" That is easy\n",
      "; and Emma could imagine with what surprize and mortification she must be retu\n",
      "tled that Jane should go . Quite a surprize to me ! I had not the least idea !\n",
      " . It is impossible to express our surprize . He came to speak to his father o\n",
      "g engaged !\" Emma even jumped with surprize ;-- and , horror - struck , exclai\n"
     ]
    }
   ],
   "source": [
    "emma.concordance('surprize')"
   ]
  },
  {
   "cell_type": "code",
   "execution_count": 8,
   "metadata": {
    "collapsed": false
   },
   "outputs": [],
   "source": [
    "from nltk.corpus import gutenberg"
   ]
  },
  {
   "cell_type": "code",
   "execution_count": 9,
   "metadata": {
    "collapsed": false
   },
   "outputs": [
    {
     "data": {
      "text/plain": [
       "[u'austen-emma.txt',\n",
       " u'austen-persuasion.txt',\n",
       " u'austen-sense.txt',\n",
       " u'bible-kjv.txt',\n",
       " u'blake-poems.txt',\n",
       " u'bryant-stories.txt',\n",
       " u'burgess-busterbrown.txt',\n",
       " u'carroll-alice.txt',\n",
       " u'chesterton-ball.txt',\n",
       " u'chesterton-brown.txt',\n",
       " u'chesterton-thursday.txt',\n",
       " u'edgeworth-parents.txt',\n",
       " u'melville-moby_dick.txt',\n",
       " u'milton-paradise.txt',\n",
       " u'shakespeare-caesar.txt',\n",
       " u'shakespeare-hamlet.txt',\n",
       " u'shakespeare-macbeth.txt',\n",
       " u'whitman-leaves.txt']"
      ]
     },
     "execution_count": 9,
     "metadata": {},
     "output_type": "execute_result"
    }
   ],
   "source": [
    "gutenberg.fileids()"
   ]
  },
  {
   "cell_type": "code",
   "execution_count": 10,
   "metadata": {
    "collapsed": false
   },
   "outputs": [
    {
     "name": "stdout",
     "output_type": "stream",
     "text": [
      "4 24 26 austen-emma.txt\n",
      "4 26 16 austen-persuasion.txt\n",
      "4 28 22 austen-sense.txt\n",
      "4 33 79 bible-kjv.txt\n",
      "4 19 5 blake-poems.txt\n",
      "4 19 14 bryant-stories.txt\n",
      "4 17 12 burgess-busterbrown.txt\n",
      "4 20 12 carroll-alice.txt\n",
      "4 20 11 chesterton-ball.txt\n",
      "4 22 11 chesterton-brown.txt\n",
      "4 18 10 chesterton-thursday.txt\n",
      "4 20 24 edgeworth-parents.txt\n",
      "4 25 15 melville-moby_dick.txt\n",
      "4 52 10 milton-paradise.txt\n",
      "4 11 8 shakespeare-caesar.txt\n",
      "4 12 7 shakespeare-hamlet.txt\n",
      "4 12 6 shakespeare-macbeth.txt\n",
      "4 36 12 whitman-leaves.txt\n"
     ]
    }
   ],
   "source": [
    "for fileid in gutenberg.fileids():\n",
    "    num_chars = len(gutenberg.raw(fileid))\n",
    "    num_words = len(gutenberg.words(fileid))\n",
    "    num_sents = len(gutenberg.sents(fileid))\n",
    "    num_vocab = len(set([w.lower() for w in gutenberg.words(fileid)]))\n",
    "    print int(num_chars/num_words), int(num_words/num_sents), int(num_words/num_vocab), fileid"
   ]
  },
  {
   "cell_type": "code",
   "execution_count": 11,
   "metadata": {
    "collapsed": true
   },
   "outputs": [],
   "source": [
    "macbeth_sentences = gutenberg.sents('shakespeare-macbeth.txt')"
   ]
  },
  {
   "cell_type": "code",
   "execution_count": 21,
   "metadata": {
    "collapsed": false
   },
   "outputs": [],
   "source": [
    "longest_len = max([len(s) for s in macbeth_sentences])"
   ]
  },
  {
   "cell_type": "code",
   "execution_count": 22,
   "metadata": {
    "collapsed": false
   },
   "outputs": [
    {
     "data": {
      "text/plain": [
       "158"
      ]
     },
     "execution_count": 22,
     "metadata": {},
     "output_type": "execute_result"
    }
   ],
   "source": [
    "longest_len"
   ]
  },
  {
   "cell_type": "code",
   "execution_count": 23,
   "metadata": {
    "collapsed": false
   },
   "outputs": [
    {
     "data": {
      "text/plain": [
       "[[u'Doubtfull',\n",
       "  u'it',\n",
       "  u'stood',\n",
       "  u',',\n",
       "  u'As',\n",
       "  u'two',\n",
       "  u'spent',\n",
       "  u'Swimmers',\n",
       "  u',',\n",
       "  u'that',\n",
       "  u'doe',\n",
       "  u'cling',\n",
       "  u'together',\n",
       "  u',',\n",
       "  u'And',\n",
       "  u'choake',\n",
       "  u'their',\n",
       "  u'Art',\n",
       "  u':',\n",
       "  u'The',\n",
       "  u'mercilesse',\n",
       "  u'Macdonwald',\n",
       "  u'(',\n",
       "  u'Worthie',\n",
       "  u'to',\n",
       "  u'be',\n",
       "  u'a',\n",
       "  u'Rebell',\n",
       "  u',',\n",
       "  u'for',\n",
       "  u'to',\n",
       "  u'that',\n",
       "  u'The',\n",
       "  u'multiplying',\n",
       "  u'Villanies',\n",
       "  u'of',\n",
       "  u'Nature',\n",
       "  u'Doe',\n",
       "  u'swarme',\n",
       "  u'vpon',\n",
       "  u'him',\n",
       "  u')',\n",
       "  u'from',\n",
       "  u'the',\n",
       "  u'Westerne',\n",
       "  u'Isles',\n",
       "  u'Of',\n",
       "  u'Kernes',\n",
       "  u'and',\n",
       "  u'Gallowgrosses',\n",
       "  u'is',\n",
       "  u'supply',\n",
       "  u\"'\",\n",
       "  u'd',\n",
       "  u',',\n",
       "  u'And',\n",
       "  u'Fortune',\n",
       "  u'on',\n",
       "  u'his',\n",
       "  u'damned',\n",
       "  u'Quarry',\n",
       "  u'smiling',\n",
       "  u',',\n",
       "  u'Shew',\n",
       "  u\"'\",\n",
       "  u'd',\n",
       "  u'like',\n",
       "  u'a',\n",
       "  u'Rebells',\n",
       "  u'Whore',\n",
       "  u':',\n",
       "  u'but',\n",
       "  u'all',\n",
       "  u\"'\",\n",
       "  u's',\n",
       "  u'too',\n",
       "  u'weake',\n",
       "  u':',\n",
       "  u'For',\n",
       "  u'braue',\n",
       "  u'Macbeth',\n",
       "  u'(',\n",
       "  u'well',\n",
       "  u'hee',\n",
       "  u'deserues',\n",
       "  u'that',\n",
       "  u'Name',\n",
       "  u')',\n",
       "  u'Disdayning',\n",
       "  u'Fortune',\n",
       "  u',',\n",
       "  u'with',\n",
       "  u'his',\n",
       "  u'brandisht',\n",
       "  u'Steele',\n",
       "  u',',\n",
       "  u'Which',\n",
       "  u'smoak',\n",
       "  u\"'\",\n",
       "  u'd',\n",
       "  u'with',\n",
       "  u'bloody',\n",
       "  u'execution',\n",
       "  u'(',\n",
       "  u'Like',\n",
       "  u'Valours',\n",
       "  u'Minion',\n",
       "  u')',\n",
       "  u'caru',\n",
       "  u\"'\",\n",
       "  u'd',\n",
       "  u'out',\n",
       "  u'his',\n",
       "  u'passage',\n",
       "  u',',\n",
       "  u'Till',\n",
       "  u'hee',\n",
       "  u'fac',\n",
       "  u\"'\",\n",
       "  u'd',\n",
       "  u'the',\n",
       "  u'Slaue',\n",
       "  u':',\n",
       "  u'Which',\n",
       "  u'neu',\n",
       "  u\"'\",\n",
       "  u'r',\n",
       "  u'shooke',\n",
       "  u'hands',\n",
       "  u',',\n",
       "  u'nor',\n",
       "  u'bad',\n",
       "  u'farwell',\n",
       "  u'to',\n",
       "  u'him',\n",
       "  u',',\n",
       "  u'Till',\n",
       "  u'he',\n",
       "  u'vnseam',\n",
       "  u\"'\",\n",
       "  u'd',\n",
       "  u'him',\n",
       "  u'from',\n",
       "  u'the',\n",
       "  u'Naue',\n",
       "  u'toth',\n",
       "  u\"'\",\n",
       "  u'Chops',\n",
       "  u',',\n",
       "  u'And',\n",
       "  u'fix',\n",
       "  u\"'\",\n",
       "  u'd',\n",
       "  u'his',\n",
       "  u'Head',\n",
       "  u'vpon',\n",
       "  u'our',\n",
       "  u'Battlements']]"
      ]
     },
     "execution_count": 23,
     "metadata": {},
     "output_type": "execute_result"
    }
   ],
   "source": [
    "[s for s in macbeth_sentences if len(s) == longest_len]"
   ]
  },
  {
   "cell_type": "code",
   "execution_count": null,
   "metadata": {
    "collapsed": true
   },
   "outputs": [],
   "source": []
  }
 ],
 "metadata": {
  "kernelspec": {
   "display_name": "Python 2",
   "language": "python",
   "name": "python2"
  },
  "language_info": {
   "codemirror_mode": {
    "name": "ipython",
    "version": 2
   },
   "file_extension": ".py",
   "mimetype": "text/x-python",
   "name": "python",
   "nbconvert_exporter": "python",
   "pygments_lexer": "ipython2",
   "version": "2.7.12"
  }
 },
 "nbformat": 4,
 "nbformat_minor": 0
}
